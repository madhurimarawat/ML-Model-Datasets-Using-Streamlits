{
 "cells": [
  {
   "cell_type": "code",
   "execution_count": 1,
   "id": "c71ad08d",
   "metadata": {},
   "outputs": [],
   "source": [
    "# Importing Required Libraries\n",
    "import pandas as pd\n",
    "import numpy as np"
   ]
  },
  {
   "cell_type": "code",
   "execution_count": 19,
   "id": "30d9ad18",
   "metadata": {},
   "outputs": [],
   "source": [
    "df1 = pd.read_csv(\"heart.csv\")\n",
    "df2 = pd.read_csv(\"o2Saturation.csv\")"
   ]
  },
  {
   "cell_type": "code",
   "execution_count": 20,
   "id": "5c2d02f2",
   "metadata": {},
   "outputs": [],
   "source": [
    "# Combining both dataframes\n",
    "df = pd.concat([df1, df2], axis = 1)"
   ]
  },
  {
   "cell_type": "code",
   "execution_count": 13,
   "id": "0ea75e4c",
   "metadata": {},
   "outputs": [
    {
     "name": "stdout",
     "output_type": "stream",
     "text": [
      "Dataframe is:\n",
      "\n",
      "       age  sex   cp  trtbps   chol  fbs  restecg  thalachh  exng  oldpeak  \\\n",
      "0     63.0  1.0  3.0   145.0  233.0  1.0      0.0     150.0   0.0      2.3   \n",
      "1     37.0  1.0  2.0   130.0  250.0  0.0      1.0     187.0   0.0      3.5   \n",
      "2     41.0  0.0  1.0   130.0  204.0  0.0      0.0     172.0   0.0      1.4   \n",
      "3     56.0  1.0  1.0   120.0  236.0  0.0      1.0     178.0   0.0      0.8   \n",
      "4     57.0  0.0  0.0   120.0  354.0  0.0      1.0     163.0   1.0      0.6   \n",
      "...    ...  ...  ...     ...    ...  ...      ...       ...   ...      ...   \n",
      "3580   NaN  NaN  NaN     NaN    NaN  NaN      NaN       NaN   NaN      NaN   \n",
      "3581   NaN  NaN  NaN     NaN    NaN  NaN      NaN       NaN   NaN      NaN   \n",
      "3582   NaN  NaN  NaN     NaN    NaN  NaN      NaN       NaN   NaN      NaN   \n",
      "3583   NaN  NaN  NaN     NaN    NaN  NaN      NaN       NaN   NaN      NaN   \n",
      "3584   NaN  NaN  NaN     NaN    NaN  NaN      NaN       NaN   NaN      NaN   \n",
      "\n",
      "      slp  caa  thall  output  98.6  \n",
      "0     0.0  0.0    1.0     1.0  98.6  \n",
      "1     0.0  0.0    2.0     1.0  98.6  \n",
      "2     2.0  0.0    2.0     1.0  98.6  \n",
      "3     2.0  0.0    2.0     1.0  98.1  \n",
      "4     2.0  0.0    2.0     1.0  97.5  \n",
      "...   ...  ...    ...     ...   ...  \n",
      "3580  NaN  NaN    NaN     NaN  98.6  \n",
      "3581  NaN  NaN    NaN     NaN  98.6  \n",
      "3582  NaN  NaN    NaN     NaN  98.6  \n",
      "3583  NaN  NaN    NaN     NaN  98.6  \n",
      "3584  NaN  NaN    NaN     NaN  98.6  \n",
      "\n",
      "[3585 rows x 15 columns]\n"
     ]
    }
   ],
   "source": [
    "# Printing Combined Dataframe\n",
    "print(\"Dataframe is:\\n\")\n",
    "print(df)"
   ]
  },
  {
   "cell_type": "code",
   "execution_count": 21,
   "id": "b1852046",
   "metadata": {},
   "outputs": [
    {
     "name": "stdout",
     "output_type": "stream",
     "text": [
      "Columns of Dataframe are:\n",
      "Index(['age', 'sex', 'cp', 'trtbps', 'chol', 'fbs', 'restecg', 'thalachh',\n",
      "       'exng', 'oldpeak', 'slp', 'caa', 'thall', 'output', '98.6'],\n",
      "      dtype='object')\n"
     ]
    }
   ],
   "source": [
    "# Columns of dataframe\n",
    "print(\"Columns of Dataframe are:\")\n",
    "print(df.columns)"
   ]
  },
  {
   "cell_type": "code",
   "execution_count": 23,
   "id": "3a040324",
   "metadata": {},
   "outputs": [
    {
     "name": "stdout",
     "output_type": "stream",
     "text": [
      "\n",
      "Dataframe after renaming is:\n",
      "\n",
      "       age  sex   cp  trtbps   chol  fbs  restecg  thalachh  exng  oldpeak  \\\n",
      "0     63.0  1.0  3.0   145.0  233.0  1.0      0.0     150.0   0.0      2.3   \n",
      "1     37.0  1.0  2.0   130.0  250.0  0.0      1.0     187.0   0.0      3.5   \n",
      "2     41.0  0.0  1.0   130.0  204.0  0.0      0.0     172.0   0.0      1.4   \n",
      "3     56.0  1.0  1.0   120.0  236.0  0.0      1.0     178.0   0.0      0.8   \n",
      "4     57.0  0.0  0.0   120.0  354.0  0.0      1.0     163.0   1.0      0.6   \n",
      "...    ...  ...  ...     ...    ...  ...      ...       ...   ...      ...   \n",
      "3580   NaN  NaN  NaN     NaN    NaN  NaN      NaN       NaN   NaN      NaN   \n",
      "3581   NaN  NaN  NaN     NaN    NaN  NaN      NaN       NaN   NaN      NaN   \n",
      "3582   NaN  NaN  NaN     NaN    NaN  NaN      NaN       NaN   NaN      NaN   \n",
      "3583   NaN  NaN  NaN     NaN    NaN  NaN      NaN       NaN   NaN      NaN   \n",
      "3584   NaN  NaN  NaN     NaN    NaN  NaN      NaN       NaN   NaN      NaN   \n",
      "\n",
      "      slp  caa  thall  output  Oxygen Saturation  \n",
      "0     0.0  0.0    1.0     1.0               98.6  \n",
      "1     0.0  0.0    2.0     1.0               98.6  \n",
      "2     2.0  0.0    2.0     1.0               98.6  \n",
      "3     2.0  0.0    2.0     1.0               98.1  \n",
      "4     2.0  0.0    2.0     1.0               97.5  \n",
      "...   ...  ...    ...     ...                ...  \n",
      "3580  NaN  NaN    NaN     NaN               98.6  \n",
      "3581  NaN  NaN    NaN     NaN               98.6  \n",
      "3582  NaN  NaN    NaN     NaN               98.6  \n",
      "3583  NaN  NaN    NaN     NaN               98.6  \n",
      "3584  NaN  NaN    NaN     NaN               98.6  \n",
      "\n",
      "[3585 rows x 15 columns]\n"
     ]
    }
   ],
   "source": [
    "# Renaming last column\n",
    "df.rename(columns = {'98.6' : 'Oxygen Saturation'},inplace = True)\n",
    "print(\"\\nDataframe after renaming is:\\n\")\n",
    "print(df)"
   ]
  },
  {
   "cell_type": "code",
   "execution_count": 24,
   "id": "3079b6bd",
   "metadata": {},
   "outputs": [
    {
     "name": "stdout",
     "output_type": "stream",
     "text": [
      "Description of Dataframe is:\n",
      "\n"
     ]
    },
    {
     "data": {
      "text/html": [
       "<div>\n",
       "<style scoped>\n",
       "    .dataframe tbody tr th:only-of-type {\n",
       "        vertical-align: middle;\n",
       "    }\n",
       "\n",
       "    .dataframe tbody tr th {\n",
       "        vertical-align: top;\n",
       "    }\n",
       "\n",
       "    .dataframe thead th {\n",
       "        text-align: right;\n",
       "    }\n",
       "</style>\n",
       "<table border=\"1\" class=\"dataframe\">\n",
       "  <thead>\n",
       "    <tr style=\"text-align: right;\">\n",
       "      <th></th>\n",
       "      <th>age</th>\n",
       "      <th>sex</th>\n",
       "      <th>cp</th>\n",
       "      <th>trtbps</th>\n",
       "      <th>chol</th>\n",
       "      <th>fbs</th>\n",
       "      <th>restecg</th>\n",
       "      <th>thalachh</th>\n",
       "      <th>exng</th>\n",
       "      <th>oldpeak</th>\n",
       "      <th>slp</th>\n",
       "      <th>caa</th>\n",
       "      <th>thall</th>\n",
       "      <th>output</th>\n",
       "      <th>Oxygen Saturation</th>\n",
       "    </tr>\n",
       "  </thead>\n",
       "  <tbody>\n",
       "    <tr>\n",
       "      <th>count</th>\n",
       "      <td>303.000000</td>\n",
       "      <td>303.000000</td>\n",
       "      <td>303.000000</td>\n",
       "      <td>303.000000</td>\n",
       "      <td>303.000000</td>\n",
       "      <td>303.000000</td>\n",
       "      <td>303.000000</td>\n",
       "      <td>303.000000</td>\n",
       "      <td>303.000000</td>\n",
       "      <td>303.000000</td>\n",
       "      <td>303.000000</td>\n",
       "      <td>303.000000</td>\n",
       "      <td>303.000000</td>\n",
       "      <td>303.000000</td>\n",
       "      <td>3585.000000</td>\n",
       "    </tr>\n",
       "    <tr>\n",
       "      <th>mean</th>\n",
       "      <td>54.366337</td>\n",
       "      <td>0.683168</td>\n",
       "      <td>0.966997</td>\n",
       "      <td>131.623762</td>\n",
       "      <td>246.264026</td>\n",
       "      <td>0.148515</td>\n",
       "      <td>0.528053</td>\n",
       "      <td>149.646865</td>\n",
       "      <td>0.326733</td>\n",
       "      <td>1.039604</td>\n",
       "      <td>1.399340</td>\n",
       "      <td>0.729373</td>\n",
       "      <td>2.313531</td>\n",
       "      <td>0.544554</td>\n",
       "      <td>98.239275</td>\n",
       "    </tr>\n",
       "    <tr>\n",
       "      <th>std</th>\n",
       "      <td>9.082101</td>\n",
       "      <td>0.466011</td>\n",
       "      <td>1.032052</td>\n",
       "      <td>17.538143</td>\n",
       "      <td>51.830751</td>\n",
       "      <td>0.356198</td>\n",
       "      <td>0.525860</td>\n",
       "      <td>22.905161</td>\n",
       "      <td>0.469794</td>\n",
       "      <td>1.161075</td>\n",
       "      <td>0.616226</td>\n",
       "      <td>1.022606</td>\n",
       "      <td>0.612277</td>\n",
       "      <td>0.498835</td>\n",
       "      <td>0.726336</td>\n",
       "    </tr>\n",
       "    <tr>\n",
       "      <th>min</th>\n",
       "      <td>29.000000</td>\n",
       "      <td>0.000000</td>\n",
       "      <td>0.000000</td>\n",
       "      <td>94.000000</td>\n",
       "      <td>126.000000</td>\n",
       "      <td>0.000000</td>\n",
       "      <td>0.000000</td>\n",
       "      <td>71.000000</td>\n",
       "      <td>0.000000</td>\n",
       "      <td>0.000000</td>\n",
       "      <td>0.000000</td>\n",
       "      <td>0.000000</td>\n",
       "      <td>0.000000</td>\n",
       "      <td>0.000000</td>\n",
       "      <td>96.500000</td>\n",
       "    </tr>\n",
       "    <tr>\n",
       "      <th>25%</th>\n",
       "      <td>47.500000</td>\n",
       "      <td>0.000000</td>\n",
       "      <td>0.000000</td>\n",
       "      <td>120.000000</td>\n",
       "      <td>211.000000</td>\n",
       "      <td>0.000000</td>\n",
       "      <td>0.000000</td>\n",
       "      <td>133.500000</td>\n",
       "      <td>0.000000</td>\n",
       "      <td>0.000000</td>\n",
       "      <td>1.000000</td>\n",
       "      <td>0.000000</td>\n",
       "      <td>2.000000</td>\n",
       "      <td>0.000000</td>\n",
       "      <td>97.600000</td>\n",
       "    </tr>\n",
       "    <tr>\n",
       "      <th>50%</th>\n",
       "      <td>55.000000</td>\n",
       "      <td>1.000000</td>\n",
       "      <td>1.000000</td>\n",
       "      <td>130.000000</td>\n",
       "      <td>240.000000</td>\n",
       "      <td>0.000000</td>\n",
       "      <td>1.000000</td>\n",
       "      <td>153.000000</td>\n",
       "      <td>0.000000</td>\n",
       "      <td>0.800000</td>\n",
       "      <td>1.000000</td>\n",
       "      <td>0.000000</td>\n",
       "      <td>2.000000</td>\n",
       "      <td>1.000000</td>\n",
       "      <td>98.600000</td>\n",
       "    </tr>\n",
       "    <tr>\n",
       "      <th>75%</th>\n",
       "      <td>61.000000</td>\n",
       "      <td>1.000000</td>\n",
       "      <td>2.000000</td>\n",
       "      <td>140.000000</td>\n",
       "      <td>274.500000</td>\n",
       "      <td>0.000000</td>\n",
       "      <td>1.000000</td>\n",
       "      <td>166.000000</td>\n",
       "      <td>1.000000</td>\n",
       "      <td>1.600000</td>\n",
       "      <td>2.000000</td>\n",
       "      <td>1.000000</td>\n",
       "      <td>3.000000</td>\n",
       "      <td>1.000000</td>\n",
       "      <td>98.600000</td>\n",
       "    </tr>\n",
       "    <tr>\n",
       "      <th>max</th>\n",
       "      <td>77.000000</td>\n",
       "      <td>1.000000</td>\n",
       "      <td>3.000000</td>\n",
       "      <td>200.000000</td>\n",
       "      <td>564.000000</td>\n",
       "      <td>1.000000</td>\n",
       "      <td>2.000000</td>\n",
       "      <td>202.000000</td>\n",
       "      <td>1.000000</td>\n",
       "      <td>6.200000</td>\n",
       "      <td>2.000000</td>\n",
       "      <td>4.000000</td>\n",
       "      <td>3.000000</td>\n",
       "      <td>1.000000</td>\n",
       "      <td>99.600000</td>\n",
       "    </tr>\n",
       "  </tbody>\n",
       "</table>\n",
       "</div>"
      ],
      "text/plain": [
       "              age         sex          cp      trtbps        chol         fbs  \\\n",
       "count  303.000000  303.000000  303.000000  303.000000  303.000000  303.000000   \n",
       "mean    54.366337    0.683168    0.966997  131.623762  246.264026    0.148515   \n",
       "std      9.082101    0.466011    1.032052   17.538143   51.830751    0.356198   \n",
       "min     29.000000    0.000000    0.000000   94.000000  126.000000    0.000000   \n",
       "25%     47.500000    0.000000    0.000000  120.000000  211.000000    0.000000   \n",
       "50%     55.000000    1.000000    1.000000  130.000000  240.000000    0.000000   \n",
       "75%     61.000000    1.000000    2.000000  140.000000  274.500000    0.000000   \n",
       "max     77.000000    1.000000    3.000000  200.000000  564.000000    1.000000   \n",
       "\n",
       "          restecg    thalachh        exng     oldpeak         slp         caa  \\\n",
       "count  303.000000  303.000000  303.000000  303.000000  303.000000  303.000000   \n",
       "mean     0.528053  149.646865    0.326733    1.039604    1.399340    0.729373   \n",
       "std      0.525860   22.905161    0.469794    1.161075    0.616226    1.022606   \n",
       "min      0.000000   71.000000    0.000000    0.000000    0.000000    0.000000   \n",
       "25%      0.000000  133.500000    0.000000    0.000000    1.000000    0.000000   \n",
       "50%      1.000000  153.000000    0.000000    0.800000    1.000000    0.000000   \n",
       "75%      1.000000  166.000000    1.000000    1.600000    2.000000    1.000000   \n",
       "max      2.000000  202.000000    1.000000    6.200000    2.000000    4.000000   \n",
       "\n",
       "            thall      output  Oxygen Saturation  \n",
       "count  303.000000  303.000000        3585.000000  \n",
       "mean     2.313531    0.544554          98.239275  \n",
       "std      0.612277    0.498835           0.726336  \n",
       "min      0.000000    0.000000          96.500000  \n",
       "25%      2.000000    0.000000          97.600000  \n",
       "50%      2.000000    1.000000          98.600000  \n",
       "75%      3.000000    1.000000          98.600000  \n",
       "max      3.000000    1.000000          99.600000  "
      ]
     },
     "execution_count": 24,
     "metadata": {},
     "output_type": "execute_result"
    }
   ],
   "source": [
    "# Seeing Description of the dataset\n",
    "print(\"Description of Dataframe is:\\n\")\n",
    "df.describe()"
   ]
  },
  {
   "cell_type": "code",
   "execution_count": 26,
   "id": "71c6211e",
   "metadata": {},
   "outputs": [
    {
     "name": "stdout",
     "output_type": "stream",
     "text": [
      "Shape of dataframe is: (3585, 15)\n"
     ]
    }
   ],
   "source": [
    "# Seeing the shape of dataframe\n",
    "print(\"Shape of dataframe is:\",df.shape)"
   ]
  },
  {
   "cell_type": "code",
   "execution_count": 27,
   "id": "732657b5",
   "metadata": {},
   "outputs": [
    {
     "name": "stdout",
     "output_type": "stream",
     "text": [
      "Missing Value count is: \n",
      "\n"
     ]
    },
    {
     "data": {
      "text/plain": [
       "age                  3282\n",
       "sex                  3282\n",
       "cp                   3282\n",
       "trtbps               3282\n",
       "chol                 3282\n",
       "fbs                  3282\n",
       "restecg              3282\n",
       "thalachh             3282\n",
       "exng                 3282\n",
       "oldpeak              3282\n",
       "slp                  3282\n",
       "caa                  3282\n",
       "thall                3282\n",
       "output               3282\n",
       "Oxygen Saturation       0\n",
       "dtype: int64"
      ]
     },
     "execution_count": 27,
     "metadata": {},
     "output_type": "execute_result"
    }
   ],
   "source": [
    "# Seeing Count of missing values\n",
    "print(\"Missing Value count is: \\n\")\n",
    "df.isnull().sum()"
   ]
  },
  {
   "cell_type": "code",
   "execution_count": 28,
   "id": "889f2663",
   "metadata": {},
   "outputs": [
    {
     "name": "stdout",
     "output_type": "stream",
     "text": [
      "Dataframe after removing missing values is:\n",
      "\n",
      "      age  sex   cp  trtbps   chol  fbs  restecg  thalachh  exng  oldpeak  \\\n",
      "0    63.0  1.0  3.0   145.0  233.0  1.0      0.0     150.0   0.0      2.3   \n",
      "1    37.0  1.0  2.0   130.0  250.0  0.0      1.0     187.0   0.0      3.5   \n",
      "2    41.0  0.0  1.0   130.0  204.0  0.0      0.0     172.0   0.0      1.4   \n",
      "3    56.0  1.0  1.0   120.0  236.0  0.0      1.0     178.0   0.0      0.8   \n",
      "4    57.0  0.0  0.0   120.0  354.0  0.0      1.0     163.0   1.0      0.6   \n",
      "..    ...  ...  ...     ...    ...  ...      ...       ...   ...      ...   \n",
      "298  57.0  0.0  0.0   140.0  241.0  0.0      1.0     123.0   1.0      0.2   \n",
      "299  45.0  1.0  3.0   110.0  264.0  0.0      1.0     132.0   0.0      1.2   \n",
      "300  68.0  1.0  0.0   144.0  193.0  1.0      1.0     141.0   0.0      3.4   \n",
      "301  57.0  1.0  0.0   130.0  131.0  0.0      1.0     115.0   1.0      1.2   \n",
      "302  57.0  0.0  1.0   130.0  236.0  0.0      0.0     174.0   0.0      0.0   \n",
      "\n",
      "     slp  caa  thall  output  Oxygen Saturation  \n",
      "0    0.0  0.0    1.0     1.0               98.6  \n",
      "1    0.0  0.0    2.0     1.0               98.6  \n",
      "2    2.0  0.0    2.0     1.0               98.6  \n",
      "3    2.0  0.0    2.0     1.0               98.1  \n",
      "4    2.0  0.0    2.0     1.0               97.5  \n",
      "..   ...  ...    ...     ...                ...  \n",
      "298  1.0  0.0    3.0     0.0               97.5  \n",
      "299  1.0  0.0    3.0     0.0               97.5  \n",
      "300  1.0  2.0    3.0     0.0               97.5  \n",
      "301  1.0  1.0    3.0     0.0               97.5  \n",
      "302  1.0  1.0    2.0     0.0               97.5  \n",
      "\n",
      "[303 rows x 15 columns]\n"
     ]
    }
   ],
   "source": [
    "# Since there are many missing values imputing with mean mode or median can lead to not accurate predictions\n",
    "# Droping missing values\n",
    "df.dropna(inplace = True)\n",
    "print(\"Dataframe after removing missing values is:\\n\")\n",
    "print(df)"
   ]
  },
  {
   "cell_type": "code",
   "execution_count": 29,
   "id": "bf16c98c",
   "metadata": {},
   "outputs": [
    {
     "name": "stdout",
     "output_type": "stream",
     "text": [
      "Number/Count of Less chance of Heart attack and More chance of Heart attack values is:\n"
     ]
    },
    {
     "data": {
      "text/plain": [
       "1.0    165\n",
       "0.0    138\n",
       "Name: output, dtype: int64"
      ]
     },
     "execution_count": 29,
     "metadata": {},
     "output_type": "execute_result"
    }
   ],
   "source": [
    "# Let's see the count of output value\n",
    "print(\"Number/Count of Less chance of Heart attack and More chance of Heart attack values is:\")\n",
    "df['output'].value_counts()"
   ]
  },
  {
   "cell_type": "code",
   "execution_count": 30,
   "id": "b9082d2f",
   "metadata": {},
   "outputs": [],
   "source": [
    "# Since the values are already balanced we can use this dataset now for out ML Model"
   ]
  },
  {
   "cell_type": "code",
   "execution_count": 31,
   "id": "f8dd6dfd",
   "metadata": {},
   "outputs": [],
   "source": [
    "# Saving Preprocessed Dataframe as csv file\n",
    "df.to_csv(\"Updated_heart_prediction.csv\")"
   ]
  },
  {
   "cell_type": "code",
   "execution_count": null,
   "id": "c4790b6d",
   "metadata": {},
   "outputs": [],
   "source": []
  }
 ],
 "metadata": {
  "kernelspec": {
   "display_name": "Python 3 (ipykernel)",
   "language": "python",
   "name": "python3"
  },
  "language_info": {
   "codemirror_mode": {
    "name": "ipython",
    "version": 3
   },
   "file_extension": ".py",
   "mimetype": "text/x-python",
   "name": "python",
   "nbconvert_exporter": "python",
   "pygments_lexer": "ipython3",
   "version": "3.11.4"
  }
 },
 "nbformat": 4,
 "nbformat_minor": 5
}
